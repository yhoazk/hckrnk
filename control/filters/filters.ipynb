{
 "cells": [
  {
   "cell_type": "markdown",
   "metadata": {},
   "source": [
    "# Filters\n",
    "\n",
    "A filter is an algorithm used mainly for the reduction of noise on a process measurement signals.\n",
    "\n",
    "## Types of filters\n",
    "\n",
    "Control systems generally provide first-order lag and/or moving average filters. A few control systems proide higher-order filters. The different types.\n",
    "\n",
    "### First-oder lag filter\n",
    "\n",
    "In this filter the output approaches the value of the input in an exponential way over time. This is also called low-pass filter because high frequencies (fast changes) are attenuated and low-frequencies (slow-changes) pass through. This makes them ideal to reduce the noise component in a process measurement signal as the noise tends to be higher frequency than the process."
   ]
  },
  {
   "cell_type": "code",
   "execution_count": null,
   "metadata": {
    "collapsed": true
   },
   "outputs": [],
   "source": []
  },
  {
   "cell_type": "markdown",
   "metadata": {},
   "source": [
    "## Moving-averge Fitler\n",
    "\n",
    "This filter stores `n` samples in a FIFO buffer. On every execution cycle a new sample is stored. The filter then calculates the average of all the stored values, which then becomes the new output of the filter.\n",
    "\n",
    "The output of a moving average filter approaches the final value linearly and then comes to an stop as opposed to a first-order lag that approaches the final value exponentially.\n"
   ]
  },
  {
   "cell_type": "code",
   "execution_count": null,
   "metadata": {
    "collapsed": true
   },
   "outputs": [],
   "source": []
  },
  {
   "cell_type": "markdown",
   "metadata": {},
   "source": [
    "## High-order filters\n",
    "\n",
    "Higher order filters consist of multiple lags arragned in specific way to provide a steeper cut-off or just to filter a specific frequency. This filters include the low-pass, band-pass, notch and high pass.\n",
    "\n"
   ]
  },
  {
   "cell_type": "markdown",
   "metadata": {},
   "source": [
    "## Filter applications\n",
    "\n",
    "### Noise Filter\n",
    "\n",
    "Used to smooth the out high-frequency noise from a process measurement signal. A first order lag with a time constant of two or three senconds is notmally sufficient for a flow control loop. Longer constants may be used with case that the filter does not become the dominant lag in the loop. In process with high sensitivity to noise and high gain controllers time constants around 10s are required.\n",
    "\n",
    "An appropiate filter time constant $T_f$ can be calculated as:\n",
    "\n",
    "$$T_f = A_n / (D_a  P_n / 2\\pi)$$\n",
    "\n",
    "Where: $A_n$ is the amplitude of noise, $D_a$ is the desired amplitude after filtering and $P_n$ is the period of noise, which can be determined b counting the number of peaks in a signal over a minute, and then inverting this number $(1/x)$. The equation gives the time in minutes.\n",
    "\n",
    "Note that adding a filter in a control loop or changing the time constant changes the dynamic behavior of the control loop. This requires retuning the controller to accomodate the loops new dynamic. Also minimize the filtering as much as possible, because a filter introduces lag which will likely result in a slower-performing control loop which may hide process problems.\n",
    "\n",
    "### Anti-aliasing Filter\n",
    "\n",
    "This filter is used on analog signals to remove the high frequency components from the signals before they are sampled by the digital control system. This to prevent aliasing problems in which high-components in the signal appears as low frequency aliases after sampling. This filter should be done in the transmitter, ie before the analog signal is sampled by the A/D converter.\n",
    "\n",
    "This filter shuold provide a minimum of -12 dB attenuation at the Nyquist frequency, but preferably more. This can be provided by a first order low-pass filter with a time constatnt set to at least 1.3 times the slowest sampling period. For example, if the input card samples the analog inputs at a rate of 1 sample per 500 milliseconds, and the controller execution interval is 1s, a minimum filter time constant of 1.3 seconds should be used.\n",
    "\n",
    "### Setpoint Filter\n",
    "\n",
    "This is used to filter the setpoint (Controller input to set the state)  though a first order lag filter before the controller receives the signal. A setpoint filter can be used to reduce o eliminate overshoot on control loops that receive operator made setpoint changes. This will mostly apply lat to a dominant process that hace bee tuned for fast disturbance rejection. It can also be used to reduce the amount of abrupt control action as a result of a setpoint change. However it would be better to apply the proportional and derivate modes only on the process variable instead of on error, if the control algorithm supports this.\n",
    "\n",
    "The \"control guru\" Gred McMillan recomends that the setpoint filter's time constant be set equal to the integral time in the controller, or 1.5 times the integral time if the controller is tuned more agressively for minimum settling time.\n",
    "\n",
    "This filters should not be used in control loops that are required to closely track their setpoints, such as cascade, feedforward and ratio control as it slows down the controllers response to setpoint changes."
   ]
  },
  {
   "cell_type": "code",
   "execution_count": null,
   "metadata": {
    "collapsed": true
   },
   "outputs": [],
   "source": []
  },
  {
   "cell_type": "markdown",
   "metadata": {},
   "source": [
    "[src](http://blog.opticontrols.com/archives/1319)"
   ]
  },
  {
   "cell_type": "code",
   "execution_count": null,
   "metadata": {
    "collapsed": true
   },
   "outputs": [],
   "source": []
  }
 ],
 "metadata": {
  "anaconda-cloud": {},
  "kernelspec": {
   "display_name": "Python [default]",
   "language": "python",
   "name": "python3"
  },
  "language_info": {
   "codemirror_mode": {
    "name": "ipython",
    "version": 3
   },
   "file_extension": ".py",
   "mimetype": "text/x-python",
   "name": "python",
   "nbconvert_exporter": "python",
   "pygments_lexer": "ipython3",
   "version": "3.5.2"
  }
 },
 "nbformat": 4,
 "nbformat_minor": 2
}
